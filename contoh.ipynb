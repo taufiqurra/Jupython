{
 "cells": [
  {
   "cell_type": "code",
   "execution_count": 1,
   "id": "5963248d-84d8-4c78-9cd7-764297be5c3c",
   "metadata": {},
   "outputs": [
    {
     "name": "stdout",
     "output_type": "stream",
     "text": [
      "Hello Jupython\n"
     ]
    }
   ],
   "source": [
    "print('Hello Jupython')"
   ]
  },
  {
   "cell_type": "code",
   "execution_count": null,
   "id": "909d787f-0ecf-461a-8ae4-b21c09be45db",
   "metadata": {},
   "outputs": [],
   "source": []
  }
 ],
 "metadata": {
  "kernelspec": {
   "display_name": "Python 3 (ipykernel)",
   "language": "python",
   "name": "python3"
  },
  "language_info": {
   "codemirror_mode": {
    "name": "ipython",
    "version": 3
   },
   "file_extension": ".py",
   "mimetype": "text/x-python",
   "name": "python",
   "nbconvert_exporter": "python",
   "pygments_lexer": "ipython3",
   "version": "3.9.12"
  }
 },
 "nbformat": 4,
 "nbformat_minor": 5
}
